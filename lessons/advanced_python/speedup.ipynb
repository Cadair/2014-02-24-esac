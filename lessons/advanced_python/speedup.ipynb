{
 "metadata": {
  "name": ""
 },
 "nbformat": 3,
 "nbformat_minor": 0,
 "worksheets": [
  {
   "cells": [
    {
     "cell_type": "markdown",
     "metadata": {},
     "source": [
      "# Cool python tips and tricks\n",
      "## Mostly to make things go slightly faster"
     ]
    },
    {
     "cell_type": "markdown",
     "metadata": {},
     "source": [
      "## Generators\n",
      "Lists are collections of objects in memory.  **Generators** on the other hand, return an iterable object that will continue to **yield** the next item at each loop.\n",
      "\n",
      "1.  By returning a value for each iteration and then discarding it, they use considerably less memory than a list.  \n",
      "2.  This leads to faster execution times as the memory does not need to be allocated and blocked off"
     ]
    },
    {
     "cell_type": "code",
     "collapsed": false,
     "input": [
      "# We see the list in memory\n",
      "list_nums = range(10)\n",
      "print list_nums\n",
      "\n",
      "# We see some strange object\n",
      "gen_nums = xrange(10)\n",
      "print gen_nums"
     ],
     "language": "python",
     "metadata": {},
     "outputs": [
      {
       "output_type": "stream",
       "stream": "stdout",
       "text": [
        "[0, 1, 2, 3, 4, 5, 6, 7, 8, 9]\n",
        "xrange(10)\n"
       ]
      }
     ],
     "prompt_number": 41
    },
    {
     "cell_type": "code",
     "collapsed": false,
     "input": [
      "# You need to iterate over the generator to access the values\n",
      "for i in gen_nums:\n",
      "    print i, "
     ],
     "language": "python",
     "metadata": {},
     "outputs": [
      {
       "output_type": "stream",
       "stream": "stdout",
       "text": [
        "0 1 2 3 4 5 6 7 8 9\n"
       ]
      }
     ],
     "prompt_number": 42
    },
    {
     "cell_type": "code",
     "collapsed": false,
     "input": [
      "# List: range\n",
      "def iter_list(N):\n",
      "    for i in range(N):\n",
      "        pass\n",
      "    \n",
      "# Generator: xrange\n",
      "def iter_gen(N):\n",
      "    for i in xrange(N):\n",
      "        pass\n",
      "    \n",
      "N = int(8E5)\n",
      "\n",
      "# `%timeit` is an ipython magic command to time the line of code\n",
      "%timeit iter_list(N)\n",
      "%timeit iter_gen(N)"
     ],
     "language": "python",
     "metadata": {},
     "outputs": [
      {
       "output_type": "stream",
       "stream": "stdout",
       "text": [
        "1 loops, best of 3: 100 ms per loop\n",
        "10 loops, best of 3: 61.9 ms per loop"
       ]
      },
      {
       "output_type": "stream",
       "stream": "stdout",
       "text": [
        "\n"
       ]
      }
     ],
     "prompt_number": 43
    },
    {
     "cell_type": "markdown",
     "metadata": {},
     "source": [
      "### Excercise:  What can't you do with generators?  \n",
      "1.  Using range, make a list from 0 to 20, then reverse this list.  Now try to do the same thing using xrange.  "
     ]
    },
    {
     "cell_type": "markdown",
     "metadata": {},
     "source": [
      "### Making your own generator:\n",
      "    \n",
      "The important difference here is the **yield** call instead of **return**.  When **return** is reached, a function will exit.  However, when a **yield** is reached, the value is passed outside the function.  Then the function sits until it is called on to advance."
     ]
    },
    {
     "cell_type": "code",
     "collapsed": false,
     "input": [
      "def my_xrange(N):\n",
      "    \"\"\"Replicate xrange\"\"\"\n",
      "    out = 0\n",
      "    while out < N:\n",
      "        out += 1\n",
      "        yield out"
     ],
     "language": "python",
     "metadata": {},
     "outputs": []
    },
    {
     "cell_type": "code",
     "collapsed": false,
     "input": [
      "for value in my_xrange(10):\n",
      "    print value, "
     ],
     "language": "python",
     "metadata": {},
     "outputs": []
    },
    {
     "cell_type": "markdown",
     "metadata": {},
     "source": [
      "### Exercise:  \n",
      "\n",
      "1.  Now make *your* own generator.  Write a generator that takes a string as input, and yields each character back.  Execute it to make sure it works."
     ]
    },
    {
     "cell_type": "markdown",
     "metadata": {},
     "source": [
      "### List comprehension and generator expresions \n",
      "\n",
      "List comprehension provides a way to create lists from other iterables without the need of a for-loop and list.append().  They are concise, and are implemented more efficiently in the back-end, which results in faster execution time (but don't ask me how).\n",
      "\n",
      "Generator expressions are similar to list comprehensions, but they return an iterable generator instead of an actual list.  Becuase of this, they are faster and more memory efficient, but you lose the ability to perform list operations on the output."
     ]
    },
    {
     "cell_type": "code",
     "collapsed": false,
     "input": [
      "# Simple function to split a sentence string and reverse each word.\n",
      "def split_and_reverse(sentence):\n",
      "    out = []\n",
      "    for word in sentence.split():\n",
      "        out.append(word[::-1])\n",
      "    return out"
     ],
     "language": "python",
     "metadata": {},
     "outputs": []
    },
    {
     "cell_type": "code",
     "collapsed": false,
     "input": [
      "# Appending to a list\n",
      "# List comprehension\n",
      "# Generator expression\n",
      "sentence = 'The rain in Spain falls mainly on the plain '\n",
      "\n",
      "# Appending to a list\n",
      "print split_and_reverse(sentence)\n",
      "\n",
      "# List comprehension, initiated by the square brackets []\n",
      "print [item[::-1] for item in sentence.split()]\n",
      "\n",
      "# Generator expression, initiated by the parenthesis ()\n",
      "print (item[::-1] for item in sentence.split())"
     ],
     "language": "python",
     "metadata": {},
     "outputs": [
      {
       "output_type": "stream",
       "stream": "stdout",
       "text": [
        "['ehT', 'niar', 'ni', 'niapS', 'sllaf', 'ylniam', 'no', 'eht', 'nialp']\n",
        "['ehT', 'niar', 'ni', 'niapS', 'sllaf', 'ylniam', 'no', 'eht', 'nialp']\n",
        "<generator object <genexpr> at 0x102f32910>\n"
       ]
      }
     ],
     "prompt_number": 44
    },
    {
     "cell_type": "code",
     "collapsed": false,
     "input": [
      "%timeit split_and_reverse(sentence)\n",
      "%timeit [item[::-1] for item in sentence.split()]\n",
      "%timeit (item[::-1] for item in sentence.split())"
     ],
     "language": "python",
     "metadata": {},
     "outputs": [
      {
       "output_type": "stream",
       "stream": "stdout",
       "text": [
        "10000 loops, best of 3: 15.5 \u00b5s per loop\n",
        "100000 loops, best of 3: 11.8 \u00b5s per loop"
       ]
      },
      {
       "output_type": "stream",
       "stream": "stdout",
       "text": [
        "\n",
        "100000 loops, best of 3: 5.36 \u00b5s per loop"
       ]
      },
      {
       "output_type": "stream",
       "stream": "stdout",
       "text": [
        "\n"
       ]
      }
     ],
     "prompt_number": 45
    },
    {
     "cell_type": "code",
     "collapsed": true,
     "input": [
      "something = [item[::-1] for item in sentence.split()]\n",
      "otherthing = (item[::-1] for item in sentence.split())\n",
      "print type(something)\n",
      "print type(otherthing)"
     ],
     "language": "python",
     "metadata": {},
     "outputs": [
      {
       "output_type": "stream",
       "stream": "stdout",
       "text": [
        "<type 'list'>\n",
        "<type 'generator'>\n"
       ]
      }
     ],
     "prompt_number": 49
    },
    {
     "cell_type": "code",
     "collapsed": false,
     "input": [
      "something."
     ],
     "language": "python",
     "metadata": {},
     "outputs": []
    },
    {
     "cell_type": "markdown",
     "metadata": {},
     "source": [
      "### Exercise:  \n",
      "\n",
      "1.  Write both a generator expresion and a list comprehension to return the square of the values from 1 to 10.  "
     ]
    },
    {
     "cell_type": "markdown",
     "metadata": {},
     "source": [
      "List comprehensions and generator expressions can be expanded into relatively comprex expressions as well.  They support multiple function calls, multiple for loops, and conditional statements.  The syntax is fairly odd, but becomes easy with repitition.\n",
      "\n",
      "\\*Argueably, these are one of the least-readible constructs in the Python language - a language which is known for its ease of readibility.  You will have to balance whether others will be able to read your code against the ease of the 1-liner and the performance increase."
     ]
    },
    {
     "cell_type": "code",
     "collapsed": false,
     "input": [
      "[letter for item in sentence.split() for letter in item]"
     ],
     "language": "python",
     "metadata": {},
     "outputs": []
    },
    {
     "cell_type": "code",
     "collapsed": false,
     "input": [
      "[word.capitalize() for word in sentence.split() if 'a' in word]"
     ],
     "language": "python",
     "metadata": {},
     "outputs": []
    },
    {
     "cell_type": "markdown",
     "metadata": {},
     "source": [
      "### Exercises:  \n",
      "1.  Write a list comprehension to return the words that contain either 'a' or 'i'.  \n",
      "2.  Write a generator expresion to return only the odd integers between 1 and 20.  "
     ]
    },
    {
     "cell_type": "markdown",
     "metadata": {},
     "source": [
      "## Numpy tricks"
     ]
    },
    {
     "cell_type": "markdown",
     "metadata": {},
     "source": [
      "Whenever possible, use np functions or built-in methods instead of the standard python versions."
     ]
    },
    {
     "cell_type": "code",
     "collapsed": false,
     "input": [
      "import numpy as np"
     ],
     "language": "python",
     "metadata": {},
     "outputs": []
    },
    {
     "cell_type": "code",
     "collapsed": false,
     "input": [
      "a = np.arange(10000)\n",
      "%timeit sum(a)\n",
      "%timeit np.sum(a)\n",
      "%timeit a.sum()"
     ],
     "language": "python",
     "metadata": {},
     "outputs": []
    },
    {
     "cell_type": "markdown",
     "metadata": {},
     "source": [
      "This is because many numpy functions are universal functions, or **Ufuncs**.  These are pre-compiled c-code with both the looping and math already implemented and optimized.\n",
      "\n",
      "As a rule, these are always faster then their equivalent functions in basic python. "
     ]
    },
    {
     "cell_type": "code",
     "collapsed": false,
     "input": [
      "%timeit max(a)\n",
      "%timeit np.max(a)  # considerably faster\n",
      "%timeit a.max()    # just barely the fasetes"
     ],
     "language": "python",
     "metadata": {},
     "outputs": []
    },
    {
     "cell_type": "markdown",
     "metadata": {},
     "source": [
      "### Excercise:\n",
      "\n",
      "1.  Explore the ufuncs for a moment.  "
     ]
    },
    {
     "cell_type": "code",
     "collapsed": false,
     "input": [
      "from scipy import special\n",
      "special.*.accumulate?\n",
      "#np.*.accumulate?"
     ],
     "language": "python",
     "metadata": {},
     "outputs": [],
     "prompt_number": 51
    },
    {
     "cell_type": "markdown",
     "metadata": {},
     "source": [
      "### Ufuncing ufuncs\n",
      "\n",
      "Ufuncs can be combined to do some rather complicated stuff in one quick and easy line of code."
     ]
    },
    {
     "cell_type": "code",
     "collapsed": false,
     "input": [
      "print 'Function:', factorial(4)\n",
      "print 'Ufuncs:', np.multiply.accumulate(range(1,5))"
     ],
     "language": "python",
     "metadata": {},
     "outputs": []
    },
    {
     "cell_type": "markdown",
     "metadata": {},
     "source": [
      "### Striding\n",
      "\n",
      "Arrays are always implemented in memory as 1d continguous blocks of memory.  Strides are how numpy represents and works with thes 1d blocks and n-dimensional objects."
     ]
    },
    {
     "cell_type": "code",
     "collapsed": false,
     "input": [
      "a = np.ones( (2,5), dtype='int8' )"
     ],
     "language": "python",
     "metadata": {},
     "outputs": [],
     "prompt_number": 46
    },
    {
     "cell_type": "code",
     "collapsed": false,
     "input": [
      "print 'Shape:', a.shape\n",
      "print 'Strides:', a.strides"
     ],
     "language": "python",
     "metadata": {},
     "outputs": [
      {
       "output_type": "stream",
       "stream": "stdout",
       "text": [
        "Shape: (2, 5)\n",
        "Strides: (5, 1)\n"
       ]
      }
     ],
     "prompt_number": 47
    },
    {
     "cell_type": "markdown",
     "metadata": {},
     "source": [
      "I set the dtype to an 8-bit integer for clarity in explanation.  We can see that the array has 2 rows (y) and 5 columns (x).  What the stride tuple (5,1) means is that to advance from 1 value of y to another, you need to advance 5 places along the 1d array.  To advance to the next value of x, you need to advance just 1 place."
     ]
    },
    {
     "cell_type": "code",
     "collapsed": false,
     "input": [
      "# To re-order or re-shape an array, no modification to the content\n",
      "# Just the strides\n",
      "print 'Original', a.strides\n",
      "print a\n",
      "print\n",
      "print 'Transposed', a.T.strides\n",
      "print a.T\n"
     ],
     "language": "python",
     "metadata": {},
     "outputs": []
    },
    {
     "cell_type": "markdown",
     "metadata": {},
     "source": [
      "### Striding correlary: avoid for-loops as much as possible"
     ]
    },
    {
     "cell_type": "code",
     "collapsed": false,
     "input": [
      "def rebin_direct(a):\n",
      "    in_y, in_x = a.shape\n",
      "    y = in_y // 2\n",
      "    x = in_x // 2\n",
      "    \n",
      "    out_array = np.zeros((y, x))\n",
      "    for i in range(y):\n",
      "        for j in xrange(x):\n",
      "            for k in xrange(2):\n",
      "                for l in xrange(2):\n",
      "                    out_array[i, j] += a[2*i+k, 2*j+l]\n",
      "    return out_array"
     ],
     "language": "python",
     "metadata": {},
     "outputs": [],
     "prompt_number": 69
    },
    {
     "cell_type": "code",
     "collapsed": false,
     "input": [
      "def rebin_slice(a):\n",
      "    y, x = a.shape\n",
      "    a = a[0:y-1:2] + a[1:y:2]\n",
      "    a = a[:,0:x-1:2] + a[:,1:x:2]\n",
      "    return a"
     ],
     "language": "python",
     "metadata": {},
     "outputs": [],
     "prompt_number": 70
    },
    {
     "cell_type": "code",
     "collapsed": false,
     "input": [
      "a = np.ones( (1000,1000) )\n",
      "%timeit rebin_direct(a)\n",
      "%timeit rebin_slice(a)"
     ],
     "language": "python",
     "metadata": {},
     "outputs": [
      {
       "output_type": "stream",
       "stream": "stdout",
       "text": [
        "1 loops, best of 3: 4.6 s per loop\n",
        "100 loops, best of 3: 16.7 ms per loop"
       ]
      },
      {
       "output_type": "stream",
       "stream": "stdout",
       "text": [
        "\n"
       ]
      }
     ],
     "prompt_number": 71
    },
    {
     "cell_type": "markdown",
     "metadata": {},
     "source": [
      "### Views vs. copies"
     ]
    },
    {
     "cell_type": "code",
     "collapsed": false,
     "input": [
      "a = np.array( [range(16384), range(16384)] )\n",
      "print a.shape"
     ],
     "language": "python",
     "metadata": {},
     "outputs": [
      {
       "output_type": "stream",
       "stream": "stdout",
       "text": [
        "(2, 16384)\n"
       ]
      }
     ],
     "prompt_number": 72
    },
    {
     "cell_type": "code",
     "collapsed": false,
     "input": [
      "%timeit a.flatten()\n",
      "%timeit a.flat"
     ],
     "language": "python",
     "metadata": {},
     "outputs": [
      {
       "output_type": "stream",
       "stream": "stdout",
       "text": [
        "10000 loops, best of 3: 46.8 \u00b5s per loop\n",
        "1000000 loops, best of 3: 702 ns per loop"
       ]
      },
      {
       "output_type": "stream",
       "stream": "stdout",
       "text": [
        "\n"
       ]
      }
     ],
     "prompt_number": 73
    },
    {
     "cell_type": "code",
     "collapsed": false,
     "input": [
      "print a.flatten().shape"
     ],
     "language": "python",
     "metadata": {},
     "outputs": []
    },
    {
     "cell_type": "code",
     "collapsed": false,
     "input": [
      "b = a.flat"
     ],
     "language": "python",
     "metadata": {},
     "outputs": []
    },
    {
     "cell_type": "code",
     "collapsed": false,
     "input": [
      "index = np.where( a > 16380)\n",
      "print index\n",
      "\n",
      "index = np.where( a.flat > 16380 )\n",
      "print index"
     ],
     "language": "python",
     "metadata": {},
     "outputs": []
    },
    {
     "cell_type": "markdown",
     "metadata": {},
     "source": [
      "### Expanding the typical broadcasting behavior."
     ]
    },
    {
     "cell_type": "code",
     "collapsed": false,
     "input": [
      "# Two simple arrays of the same length and dimension\n",
      "a = np.arange(10)\n",
      "b = np.arange(10)"
     ],
     "language": "python",
     "metadata": {},
     "outputs": []
    },
    {
     "cell_type": "markdown",
     "metadata": {},
     "source": [
      "We are all familiar with the typical array broadcasting"
     ]
    },
    {
     "cell_type": "code",
     "collapsed": false,
     "input": [
      "print a * 5\n",
      "print a + b\n",
      "print a * b"
     ],
     "language": "python",
     "metadata": {},
     "outputs": []
    },
    {
     "cell_type": "markdown",
     "metadata": {},
     "source": [
      "But we've probably run into errors like this:"
     ]
    },
    {
     "cell_type": "code",
     "collapsed": false,
     "input": [
      "c = np.ones(2)\n",
      "a + c"
     ],
     "language": "python",
     "metadata": {},
     "outputs": []
    },
    {
     "cell_type": "markdown",
     "metadata": {},
     "source": [
      "However, there are actually rules in place to handle broadcasting with arrays of different sizes.  If the arrays are perpendicular to each other, both arrays will appear to be 'duplicated' along the shorter axis until they are of matching size, and then the operation will be performed."
     ]
    },
    {
     "cell_type": "code",
     "collapsed": false,
     "input": [
      "c = np.ones((2,1))\n",
      "a + c"
     ],
     "language": "python",
     "metadata": {},
     "outputs": []
    },
    {
     "cell_type": "code",
     "collapsed": false,
     "input": [
      "# This is equivalent to the below, but without the extra step\n",
      "a = np.array( [np.arange(10), np.arange(10)] )\n",
      "c = np.ones((2,1))\n",
      "\n",
      "a + c"
     ],
     "language": "python",
     "metadata": {},
     "outputs": []
    },
    {
     "cell_type": "code",
     "collapsed": false,
     "input": [
      "#  In comes np.newaxis\n",
      "#  Our original a and c\n",
      "a = np.arange(10)\n",
      "c = np.ones(2)\n",
      "\n",
      "a + c[:, np.newaxis]"
     ],
     "language": "python",
     "metadata": {},
     "outputs": []
    },
    {
     "cell_type": "code",
     "collapsed": false,
     "input": [
      "image = np.ones( (1024, 16384) ) * 10\n",
      "background = np.random.random_sample(1024)"
     ],
     "language": "python",
     "metadata": {},
     "outputs": []
    },
    {
     "cell_type": "code",
     "collapsed": false,
     "input": [
      "image -= background"
     ],
     "language": "python",
     "metadata": {},
     "outputs": []
    },
    {
     "cell_type": "code",
     "collapsed": false,
     "input": [
      "background_2d = np.tile(background, 16384).reshape((16384, 1024)).T\n",
      "image - background_2d"
     ],
     "language": "python",
     "metadata": {},
     "outputs": []
    },
    {
     "cell_type": "code",
     "collapsed": false,
     "input": [
      "background_2d = background[:, np.newaxis]\n",
      "image - background_2d"
     ],
     "language": "python",
     "metadata": {},
     "outputs": []
    },
    {
     "cell_type": "markdown",
     "metadata": {},
     "source": [
      "This is helpful becuase it is faster (MUCH FASTER), more memory efficient, and once you understand the syntax the coding has much less to type and much less to mess up."
     ]
    },
    {
     "cell_type": "code",
     "collapsed": false,
     "input": [
      "%timeit np.tile(background, 16384).reshape((16384, 1024)).T\n",
      "%timeit background[:, np.newaxis]"
     ],
     "language": "python",
     "metadata": {},
     "outputs": []
    },
    {
     "cell_type": "markdown",
     "metadata": {},
     "source": [
      "### Excercises.  \n",
      "1.  Take a 1D array of length 10 and subtract it from an array of shape 5, 10, 7.  \n",
      "2.  Make multiplication and addition tables for the values 1-10.  "
     ]
    },
    {
     "cell_type": "code",
     "collapsed": false,
     "input": [
      "d = np.ones((5, 10, 3))\n",
      "e = np.arange(10)\n",
      "\n",
      "d - e[np.newaxis, :, np.newaxis]"
     ],
     "language": "python",
     "metadata": {},
     "outputs": []
    },
    {
     "cell_type": "code",
     "collapsed": false,
     "input": [
      "a = np.arange(1,11)\n",
      "print 'Multiplication'\n",
      "print a[:, np.newaxis] * a[np.newaxis, :]\n",
      "\n",
      "print 'Addition'\n",
      "print a[:, np.newaxis] + a[np.newaxis, :]"
     ],
     "language": "python",
     "metadata": {},
     "outputs": [
      {
       "output_type": "stream",
       "stream": "stdout",
       "text": [
        "Multiplication\n",
        "[[  1   2   3   4   5   6   7   8   9  10]\n",
        " [  2   4   6   8  10  12  14  16  18  20]\n",
        " [  3   6   9  12  15  18  21  24  27  30]\n",
        " [  4   8  12  16  20  24  28  32  36  40]\n",
        " [  5  10  15  20  25  30  35  40  45  50]\n",
        " [  6  12  18  24  30  36  42  48  54  60]\n",
        " [  7  14  21  28  35  42  49  56  63  70]\n",
        " [  8  16  24  32  40  48  56  64  72  80]\n",
        " [  9  18  27  36  45  54  63  72  81  90]\n",
        " [ 10  20  30  40  50  60  70  80  90 100]]\n",
        "Addition\n",
        "[[ 2  3  4  5  6  7  8  9 10 11]\n",
        " [ 3  4  5  6  7  8  9 10 11 12]\n",
        " [ 4  5  6  7  8  9 10 11 12 13]\n",
        " [ 5  6  7  8  9 10 11 12 13 14]\n",
        " [ 6  7  8  9 10 11 12 13 14 15]\n",
        " [ 7  8  9 10 11 12 13 14 15 16]\n",
        " [ 8  9 10 11 12 13 14 15 16 17]\n",
        " [ 9 10 11 12 13 14 15 16 17 18]\n",
        " [10 11 12 13 14 15 16 17 18 19]\n",
        " [11 12 13 14 15 16 17 18 19 20]]\n"
       ]
      }
     ],
     "prompt_number": 48
    },
    {
     "cell_type": "code",
     "collapsed": false,
     "input": [],
     "language": "python",
     "metadata": {},
     "outputs": []
    }
   ],
   "metadata": {}
  }
 ]
}