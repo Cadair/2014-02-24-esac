{
 "metadata": {
  "name": ""
 },
 "nbformat": 3,
 "nbformat_minor": 0,
 "worksheets": [
  {
   "cells": [
    {
     "cell_type": "markdown",
     "metadata": {},
     "source": [
      "# Making your own package\n",
      "\n",
      "Packages can be great as a way to distribute your libraries and codes to others.  They can also serve as a nice coherent way to keep all your stuff together for personal use.\n",
      "\n",
      "Packaging isn't too difficult to do, you just must follow some specific rules."
     ]
    },
    {
     "cell_type": "markdown",
     "metadata": {},
     "source": [
      "1.  A folder to hold the entire package and related scripts.  \n",
      "    1.  setup.py\n",
      "2.  Another folder within to contain the library ('module' in python speak).  \n",
      "    1.  `__init__.py` to tell python this is a module  \n",
      "    2.  Any .py libraries you want"
     ]
    },
    {
     "cell_type": "code",
     "collapsed": false,
     "input": [
      "# first, we need a directory to hold the package\n",
      "# lets just call it spacelib for now\n",
      "\n",
      "# '!' will let you excape from the python prompt into a shell\n",
      "!mkdir spacelib\n",
      "!mkdir spacelib/spacelib"
     ],
     "language": "python",
     "metadata": {},
     "outputs": [],
     "prompt_number": 2
    },
    {
     "cell_type": "code",
     "collapsed": false,
     "input": [
      "!touch setup.py\n",
      "!touch __init__.py"
     ],
     "language": "python",
     "metadata": {},
     "outputs": []
    },
    {
     "cell_type": "code",
     "collapsed": false,
     "input": [
      "# Basic\n",
      "setup(\n",
      "    name = 'spacelib',\n",
      "    version = '0.1.1', \n",
      "    description = 'Awesome space library',\n",
      "    author = 'Justin Ely',\n",
      "    author_email = 'ely@stsci.edu',\n",
      "    packages = ['spacelib']\n",
      "    )"
     ],
     "language": "python",
     "metadata": {},
     "outputs": []
    },
    {
     "cell_type": "code",
     "collapsed": false,
     "input": [
      "!python setup.py install"
     ],
     "language": "python",
     "metadata": {},
     "outputs": []
    },
    {
     "cell_type": "markdown",
     "metadata": {},
     "source": [
      "### Adding some functions\n",
      "\n",
      "1.  Within spacelib/spacelib, create a new file called math.  \n",
      "2.  Within math, define a function you want your library to include.  \n",
      "3.  Within `__init__.py` add the line `import math`  \n",
      "4.  Run `python setup.py install`"
     ]
    },
    {
     "cell_type": "markdown",
     "metadata": {},
     "source": [
      "Lets open Ipython and see!"
     ]
    },
    {
     "cell_type": "markdown",
     "metadata": {},
     "source": [
      "Add a new module, with another `__init__.py`"
     ]
    },
    {
     "cell_type": "markdown",
     "metadata": {},
     "source": [
      "### Extra things for completeness\n",
      "\n",
      "1.  scripts/ directory and added to the setup.py  \n",
      "2.  `__all__ == []` in script names.  \n",
      "3.  LICENSE"
     ]
    },
    {
     "cell_type": "code",
     "collapsed": false,
     "input": [
      "# Full\n",
      "setup(\n",
      "    name = 'lightcurve',\n",
      "    url = 'http://justincely.github.io/lightcurve/',\n",
      "    version = '0.2.1', \n",
      "    description = 'Create lightcurves from HST/COS data',\n",
      "    author = 'Justin Ely',\n",
      "    author_email = 'ely@stsci.edu',\n",
      "    keywords = ['astronomy'],\n",
      "    classifiers = ['Programming Language :: Python',\n",
      "                   'Development Status :: 1 - Planning',\n",
      "                   'Intended Audience :: Science/Research',\n",
      "                   'Topic :: Scientific/Engineering :: Astronomy',\n",
      "                   'Topic :: Scientific/Engineering :: Physics',\n",
      "                   'Topic :: Software Development :: Libraries :: Python Modules'],\n",
      "    packages = ['lightcurve'],\n",
      "    requires = ['numpy','scipy','astropy'],\n",
      "    scripts =  ['scripts/lightcurve']\n",
      "    )"
     ],
     "language": "python",
     "metadata": {},
     "outputs": []
    },
    {
     "cell_type": "markdown",
     "metadata": {},
     "source": [
      "### PyPi\n",
      "\n",
      "Registering your code library on the python packagin index (PyPi) is surprisingly easy after it's been packaged.\n",
      "\n",
      "1.  python setup.py register  \n",
      "2.  python setup.py sdist  \n",
      "3.  python setup.py sdist upload  \n",
      "\n",
      "Now people can install using `pip install spacelib`"
     ]
    }
   ],
   "metadata": {}
  }
 ]
}