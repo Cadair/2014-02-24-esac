{
 "metadata": {
  "name": "basic_python_for_programmers"
 },
 "nbformat": 3,
 "nbformat_minor": 0,
 "worksheets": [
  {
   "cells": [
    {
     "cell_type": "markdown",
     "metadata": {},
     "source": [
      "---\n",
      "\n",
      "#Intro to Python\n",
      "\n",
      "---"
     ]
    },
    {
     "cell_type": "markdown",
     "metadata": {},
     "source": [
      "###Why Python?  \n",
      "1.  Readibility  \n",
      "2.  Built with coder psychology in mind\n",
      "3.  Language interoperability  \n",
      "4.  Object Oriented  \n",
      "5.  It does EVERYTHING  "
     ]
    },
    {
     "cell_type": "markdown",
     "metadata": {},
     "source": [
      "![alt text](http://imgs.xkcd.com/comics/python.png \"Title\")"
     ]
    },
    {
     "cell_type": "markdown",
     "metadata": {},
     "source": [
      "## And simply diving in:  \n",
      "Let's quick look at an example of python showing  \n",
      "\n",
      " *  using libraries  \n",
      " *  using comments  \n",
      " *  variable assignment  \n",
      " *  using functions  \n",
      " *  printing results  \n",
      "  \n",
      "Then we'll go through things more slowly"
     ]
    },
    {
     "cell_type": "code",
     "collapsed": false,
     "input": [
      "# This is a comment, i'm sure you are familiar with it\n",
      "\n",
      "# You import libraries (also called packages)\n",
      "# with the import statement\n",
      "import math\n",
      "\n",
      "\n",
      "# You'll notice you don't have to declare the variable type\n",
      "x = 2 * math.pi\n",
      "message = 'Math is fun:'\n",
      "result = math.cos( x )\n",
      "\n",
      "# Sending the results to the screen is simple with print\n",
      "print x\n",
      "\n",
      "# You can print multiple things by separating them with \",\"\n",
      "print message, result"
     ],
     "language": "python",
     "metadata": {},
     "outputs": []
    },
    {
     "cell_type": "markdown",
     "metadata": {},
     "source": [
      "  \n",
      "---\n",
      "  \n",
      "# Variables  \n",
      "  \n",
      "---  \n",
      "  \n",
      "*  No need to declare variable types  \n",
      "*  ANYTHING can be put in a variable  \n",
      "    +  numbers  \n",
      "    +  strings  \n",
      "    +  functions  \n",
      "    +  file-handles\n",
      "    +  etc, etc  \n",
      "\n",
      "Variables are just containers to put stuff in, they don't much care what!"
     ]
    },
    {
     "cell_type": "code",
     "collapsed": false,
     "input": [
      "x = 'good morning'\n",
      "print x"
     ],
     "language": "python",
     "metadata": {},
     "outputs": []
    },
    {
     "cell_type": "code",
     "collapsed": false,
     "input": [
      "x = 5\n",
      "print x"
     ],
     "language": "python",
     "metadata": {},
     "outputs": []
    },
    {
     "cell_type": "code",
     "collapsed": false,
     "input": [
      "x = math.cos\n",
      "print x( math.pi )"
     ],
     "language": "python",
     "metadata": {},
     "outputs": []
    },
    {
     "cell_type": "markdown",
     "metadata": {},
     "source": [
      "---\n",
      "\n",
      "# Simple data types/containers in python  \n",
      "  \n",
      "---\n",
      "\n",
      "These are the basic building blocks of any python code.  More types are available,  \n",
      "both in standard python and by using additional libraries, which we will go into later.  \n",
      "\n",
      "For now:  \n",
      "  \n",
      "*  integer  \n",
      "*  float  \n",
      "*  string  \n",
      "*  list  \n"
     ]
    },
    {
     "cell_type": "markdown",
     "metadata": {},
     "source": [
      "### Numbers: ints and floats"
     ]
    },
    {
     "cell_type": "code",
     "collapsed": false,
     "input": [
      "# Integer numbers simply don't have decimal points\n",
      "2"
     ],
     "language": "python",
     "metadata": {},
     "outputs": []
    },
    {
     "cell_type": "code",
     "collapsed": false,
     "input": [
      "# To make an int a float, just add a decimal\n",
      "2.0"
     ],
     "language": "python",
     "metadata": {},
     "outputs": []
    },
    {
     "cell_type": "markdown",
     "metadata": {},
     "source": [
      "## *Excercise:*  \n",
      "\n",
      "Do some basic arithmetic with floats and integers.  \n",
      "\n",
      "*  addition:        +  \n",
      "*  subtraction:     -  \n",
      "*  multiplication:  *  \n",
      "*  division:        /  \n",
      "*  exponentiataion: **\n",
      "*  modulo:          %"
     ]
    },
    {
     "cell_type": "code",
     "collapsed": false,
     "input": [
      "# Do some basic arithmetic on some numbers\n",
      "# mix and match integers and floats and see what happens"
     ],
     "language": "python",
     "metadata": {},
     "outputs": []
    },
    {
     "cell_type": "markdown",
     "metadata": {},
     "source": [
      "### Strings"
     ]
    },
    {
     "cell_type": "code",
     "collapsed": false,
     "input": [
      "# To say somthing is a string, just enclose it in quotes\n",
      "'two'"
     ],
     "language": "python",
     "metadata": {},
     "outputs": []
    },
    {
     "cell_type": "code",
     "collapsed": false,
     "input": [
      "# You can index and slice strings using square brackets\n",
      "word = 'hello'\n",
      "print word\n",
      "print word[1]\n",
      "print word[1:4]"
     ],
     "language": "python",
     "metadata": {},
     "outputs": []
    },
    {
     "cell_type": "markdown",
     "metadata": {},
     "source": [
      "### Lists\n",
      "\n",
      "This is NOT the python equivalent to an IDL array.  \n",
      "This is a list, which serves a different purpose."
     ]
    },
    {
     "cell_type": "code",
     "collapsed": false,
     "input": [
      "# bulding a list is easy!\n",
      "# Just use square brackets: []\n",
      "my_list = [1, 5, 7, 4]"
     ],
     "language": "python",
     "metadata": {},
     "outputs": []
    },
    {
     "cell_type": "code",
     "collapsed": false,
     "input": [
      "# Just like strings, lists can also be indexed and sliced\n",
      "print my_list[0]"
     ],
     "language": "python",
     "metadata": {},
     "outputs": []
    },
    {
     "cell_type": "code",
     "collapsed": false,
     "input": [
      "# Lists can have a hetergeneous mix of values\n",
      "mixed_list = ['a', 0, 'tree', [1, 2, 3]]"
     ],
     "language": "python",
     "metadata": {},
     "outputs": []
    },
    {
     "cell_type": "markdown",
     "metadata": {},
     "source": [
      "##Exercise:\n",
      "\n",
      "1. Try different operations on different data types: use addition to \"add\" integers, floats, strings, and lists. Does addition behave the same when acting on a string vs a float?\n",
      "\n",
      "2. Now try with multiplication, division, and subtraction. Do these operations work on all data types?\n"
     ]
    },
    {
     "cell_type": "markdown",
     "metadata": {},
     "source": [
      "---\n",
      "\n",
      "# Operations...but not only with numbers?\n",
      "\n",
      "---"
     ]
    },
    {
     "cell_type": "markdown",
     "metadata": {},
     "source": [
      "## *Excercise:*  \n",
      "\n",
      "Make a string containing \"luminiferous ether\" 10 times.\n",
      "\n",
      "Then make a list of that string 100 times."
     ]
    },
    {
     "cell_type": "code",
     "collapsed": false,
     "input": [
      "# This doesn't sound like fun"
     ],
     "language": "python",
     "metadata": {},
     "outputs": []
    },
    {
     "cell_type": "markdown",
     "metadata": {},
     "source": [
      "### Why is this?  \n",
      "What reasons are there for this kind of behavior?  \n",
      "\n",
      "*  "
     ]
    },
    {
     "cell_type": "markdown",
     "metadata": {},
     "source": [
      "# More datatypes"
     ]
    },
    {
     "cell_type": "markdown",
     "metadata": {},
     "source": [
      "###Tuple"
     ]
    },
    {
     "cell_type": "code",
     "collapsed": false,
     "input": [
      "#Tuple: immutable\n",
      "my_tuple = (4, 5, 6)\n",
      "#I can print the array\n",
      "print my_tuple[1]\n"
     ],
     "language": "python",
     "metadata": {},
     "outputs": [
      {
       "ename": "TypeError",
       "evalue": "'tuple' object does not support item assignment",
       "output_type": "pyerr",
       "traceback": [
        "\u001b[0;31m---------------------------------------------------------------------------\u001b[0m\n\u001b[0;31mTypeError\u001b[0m                                 Traceback (most recent call last)",
        "\u001b[0;32m<ipython-input-3-b6bb95a96806>\u001b[0m in \u001b[0;36m<module>\u001b[0;34m()\u001b[0m\n\u001b[1;32m      4\u001b[0m \u001b[0;32mprint\u001b[0m \u001b[0ma\u001b[0m\u001b[0;34m[\u001b[0m\u001b[0;36m1\u001b[0m\u001b[0;34m]\u001b[0m\u001b[0;34m\u001b[0m\u001b[0m\n\u001b[1;32m      5\u001b[0m \u001b[0;34m\u001b[0m\u001b[0m\n\u001b[0;32m----> 6\u001b[0;31m \u001b[0ma\u001b[0m\u001b[0;34m[\u001b[0m\u001b[0;36m1\u001b[0m\u001b[0;34m]\u001b[0m \u001b[0;34m=\u001b[0m \u001b[0;36m10\u001b[0m\u001b[0;34m\u001b[0m\u001b[0m\n\u001b[0m",
        "\u001b[0;31mTypeError\u001b[0m: 'tuple' object does not support item assignment"
       ]
      },
      {
       "output_type": "stream",
       "stream": "stdout",
       "text": [
        "5\n"
       ]
      }
     ],
     "prompt_number": 3
    },
    {
     "cell_type": "code",
     "collapsed": false,
     "input": [
      "#but can't change it\n",
      "my_tuple[1] = 10"
     ],
     "language": "python",
     "metadata": {},
     "outputs": []
    },
    {
     "cell_type": "markdown",
     "metadata": {},
     "source": [
      "###Dictionary"
     ]
    },
    {
     "cell_type": "code",
     "collapsed": false,
     "input": [
      "#Dictionaries are sets of keys and values, together they form a tuple called an item\n",
      "my_dict = {'apple':3, 'banana': 2, 'carrot': 5}\n",
      "\n",
      "#Dictionaries are unordered:\n",
      "print my_dict.keys()\n",
      "\n",
      "#Reference values in a dictionary using keys\n",
      "print my_dict['apple']"
     ],
     "language": "python",
     "metadata": {},
     "outputs": [
      {
       "output_type": "stream",
       "stream": "stdout",
       "text": [
        "['carrot', 'apple', 'banana']\n",
        "3\n"
       ]
      }
     ],
     "prompt_number": 9
    },
    {
     "cell_type": "code",
     "collapsed": false,
     "input": [
      "#Also, an example of using dictionaries\n",
      "fruit = 'apple'\n",
      "#Option 1:\n",
      "if fruit == 'banana':\n",
      "    quantity = 2\n",
      "elif fruit == 'carrot':\n",
      "    quantity = 5\n",
      "elif fruit == 'apple':\n",
      "    quantity = 3\n",
      "else:\n",
      "    print 'I do not know how much fruit to by for the fruit you specified'\n",
      "    \n",
      "#Option 2:\n",
      "    quantity = my_dict[fruit]"
     ],
     "language": "python",
     "metadata": {},
     "outputs": []
    },
    {
     "cell_type": "markdown",
     "metadata": {},
     "source": [
      "### Numpy Array"
     ]
    },
    {
     "cell_type": "code",
     "collapsed": false,
     "input": [
      "#Numpy arrays are often the most intuitive objects. \n",
      "#These add, multiply, divide, and subtract element by element\n",
      "import numpy as np\n",
      "my_array = np.array([1, 3, 6, 5, 3, 8])\n",
      "my_array_2 = np.arange(6)\n",
      "print 'my_array', my_array\n",
      "print 'my_array_2', my_array_2\n",
      "print my_array + my_array_2\n"
     ],
     "language": "python",
     "metadata": {},
     "outputs": [
      {
       "output_type": "stream",
       "stream": "stdout",
       "text": [
        "my_array [1 3 6 5 3 8]\n",
        "my_array_2 [0 1 2 3 4 5]\n",
        "[ 1  4  8  8  7 13]\n"
       ]
      }
     ],
     "prompt_number": 9
    },
    {
     "cell_type": "markdown",
     "metadata": {},
     "source": [
      "---\n",
      "\n",
      "# Everything is an object\n",
      "\n",
      "---\n",
      "\n",
      "**Everthing** really is an object in python.  Lists, functions, strings, even numbers.\n",
      "\n",
      "This is important as we start to manipulate these data types.\n",
      "\n",
      "We can get information about objects and ask them to do things "
     ]
    },
    {
     "cell_type": "markdown",
     "metadata": {},
     "source": [
      "###Attributes: describing an object"
     ]
    },
    {
     "cell_type": "code",
     "collapsed": false,
     "input": [
      "#You actually already use an attribute when we were learning about dictionaries\n",
      "print my_dict.keys()\n",
      "print my_dict.values()\n",
      "print my_dict.items()"
     ],
     "language": "python",
     "metadata": {},
     "outputs": [
      {
       "output_type": "stream",
       "stream": "stdout",
       "text": [
        "dict_keys(['carrot', 'apple', 'banana'])\n",
        "[5, 3, 2]\n",
        "[('carrot', 5), ('apple', 3), ('banana', 2)]\n"
       ]
      }
     ],
     "prompt_number": 12
    },
    {
     "cell_type": "markdown",
     "metadata": {},
     "source": [
      "###Methods: Doing something with or to an object"
     ]
    },
    {
     "cell_type": "code",
     "collapsed": false,
     "input": [
      "#Using the numpy array we created above\n",
      "print my_array\n",
      "print my_array.mean()"
     ],
     "language": "python",
     "metadata": {},
     "outputs": [
      {
       "output_type": "stream",
       "stream": "stdout",
       "text": [
        "[1 3 6 5 3 8]\n",
        "4.33333333333\n"
       ]
      }
     ],
     "prompt_number": 14
    },
    {
     "cell_type": "markdown",
     "metadata": {},
     "source": [
      "###What else can you do with an object?"
     ]
    },
    {
     "cell_type": "code",
     "collapsed": false,
     "input": [
      "#  You can look at what any object contains with the dir() function\n",
      "#  This tells the functions (called methods)\n",
      "#  and simple values/strings (called attributes) that are available.\n",
      "\n",
      "x = 5\n",
      "dir( x )"
     ],
     "language": "python",
     "metadata": {},
     "outputs": [
      {
       "output_type": "pyout",
       "prompt_number": 2,
       "text": [
        "['__abs__',\n",
        " '__add__',\n",
        " '__and__',\n",
        " '__class__',\n",
        " '__cmp__',\n",
        " '__coerce__',\n",
        " '__delattr__',\n",
        " '__div__',\n",
        " '__divmod__',\n",
        " '__doc__',\n",
        " '__float__',\n",
        " '__floordiv__',\n",
        " '__format__',\n",
        " '__getattribute__',\n",
        " '__getnewargs__',\n",
        " '__hash__',\n",
        " '__hex__',\n",
        " '__index__',\n",
        " '__init__',\n",
        " '__int__',\n",
        " '__invert__',\n",
        " '__long__',\n",
        " '__lshift__',\n",
        " '__mod__',\n",
        " '__mul__',\n",
        " '__neg__',\n",
        " '__new__',\n",
        " '__nonzero__',\n",
        " '__oct__',\n",
        " '__or__',\n",
        " '__pos__',\n",
        " '__pow__',\n",
        " '__radd__',\n",
        " '__rand__',\n",
        " '__rdiv__',\n",
        " '__rdivmod__',\n",
        " '__reduce__',\n",
        " '__reduce_ex__',\n",
        " '__repr__',\n",
        " '__rfloordiv__',\n",
        " '__rlshift__',\n",
        " '__rmod__',\n",
        " '__rmul__',\n",
        " '__ror__',\n",
        " '__rpow__',\n",
        " '__rrshift__',\n",
        " '__rshift__',\n",
        " '__rsub__',\n",
        " '__rtruediv__',\n",
        " '__rxor__',\n",
        " '__setattr__',\n",
        " '__sizeof__',\n",
        " '__str__',\n",
        " '__sub__',\n",
        " '__subclasshook__',\n",
        " '__truediv__',\n",
        " '__trunc__',\n",
        " '__xor__',\n",
        " 'bit_length',\n",
        " 'conjugate',\n",
        " 'denominator',\n",
        " 'imag',\n",
        " 'numerator',\n",
        " 'real']"
       ]
      }
     ],
     "prompt_number": 2
    },
    {
     "cell_type": "code",
     "collapsed": false,
     "input": [
      "# ipython also allows you to view attributes and methods by typing the variable. <tab>\n",
      "x."
     ],
     "language": "python",
     "metadata": {},
     "outputs": []
    },
    {
     "cell_type": "code",
     "collapsed": false,
     "input": [
      "# methods and attributes are accessed with the \".\"\n",
      "print x.real\n",
      "print x.imag"
     ],
     "language": "python",
     "metadata": {},
     "outputs": []
    },
    {
     "cell_type": "markdown",
     "metadata": {},
     "source": [
      "-----------------\n",
      "#Getting Help\n",
      "\n",
      "-----------------"
     ]
    },
    {
     "cell_type": "code",
     "collapsed": false,
     "input": [
      "#You can get help on anything by using the help function help()\n",
      "help(math.cos)"
     ],
     "language": "python",
     "metadata": {},
     "outputs": [
      {
       "output_type": "stream",
       "stream": "stdout",
       "text": [
        "Help on built-in function cos in module math:\n",
        "\n",
        "cos(...)\n",
        "    cos(x)\n",
        "    \n",
        "    Return the cosine of x (measured in radians).\n",
        "\n"
       ]
      }
     ],
     "prompt_number": 11
    },
    {
     "cell_type": "markdown",
     "metadata": {},
     "source": [
      "## *Excercise:*  \n",
      "\n",
      "1.  Put your favorite astronomical target in a variable  \n",
      "2.  Use the dir() function to find out how to:  \n",
      "    *  make everything in caps\n",
      "    *  count the occurance of each vowel, 'a','e','i','o','u'\n"
     ]
    },
    {
     "cell_type": "code",
     "collapsed": false,
     "input": [
      "astro_obj = 'supernovae'\n",
      "dir(astro_obj)\n",
      "astro_obj.count('e')"
     ],
     "language": "python",
     "metadata": {},
     "outputs": [
      {
       "output_type": "pyout",
       "prompt_number": 12,
       "text": [
        "2"
       ]
      }
     ],
     "prompt_number": 12
    },
    {
     "cell_type": "markdown",
     "metadata": {},
     "source": [
      "---\n",
      "\n",
      "# Errors and the Traceback\n",
      "\n",
      "---\n",
      "\n",
      "It may look scary, but it is **EXTREMELY** helpful.\n",
      "\n",
      "When you execute code or run a script, python executes the  \n",
      "instructions line by line until it reaches an error or the end of the code.\n",
      "\n",
      "This means that the interpreter knows exactly where it was when it   \n",
      "encountered something that caused a crash, and will tell you exactly which  \n",
      "line of code caused the problem.\n",
      "\n",
      "It also throws useful error messages, which can be useful for de-bugging."
     ]
    },
    {
     "cell_type": "code",
     "collapsed": false,
     "input": [
      "# Let's go back to our Tuple example\n",
      "my_tuple = (0, 6, 4, 'a')\n",
      "\n",
      "my_tuple[1] = 5\n",
      "\n",
      "print my_tuple[3]\n"
     ],
     "language": "python",
     "metadata": {},
     "outputs": [
      {
       "ename": "TypeError",
       "evalue": "'tuple' object does not support item assignment",
       "output_type": "pyerr",
       "traceback": [
        "\u001b[0;31m---------------------------------------------------------------------------\u001b[0m\n\u001b[0;31mTypeError\u001b[0m                                 Traceback (most recent call last)",
        "\u001b[0;32m<ipython-input-16-081728d04638>\u001b[0m in \u001b[0;36m<module>\u001b[0;34m()\u001b[0m\n\u001b[1;32m      2\u001b[0m \u001b[0mmy_tuple\u001b[0m \u001b[0;34m=\u001b[0m \u001b[0;34m(\u001b[0m\u001b[0;36m0\u001b[0m\u001b[0;34m,\u001b[0m \u001b[0;36m6\u001b[0m\u001b[0;34m,\u001b[0m \u001b[0;36m4\u001b[0m\u001b[0;34m,\u001b[0m \u001b[0;34m'a'\u001b[0m\u001b[0;34m)\u001b[0m\u001b[0;34m\u001b[0m\u001b[0m\n\u001b[1;32m      3\u001b[0m \u001b[0;34m\u001b[0m\u001b[0m\n\u001b[0;32m----> 4\u001b[0;31m \u001b[0mmy_tuple\u001b[0m\u001b[0;34m[\u001b[0m\u001b[0;36m1\u001b[0m\u001b[0;34m]\u001b[0m \u001b[0;34m=\u001b[0m \u001b[0;36m5\u001b[0m\u001b[0;34m\u001b[0m\u001b[0m\n\u001b[0m\u001b[1;32m      5\u001b[0m \u001b[0;34m\u001b[0m\u001b[0m\n\u001b[1;32m      6\u001b[0m \u001b[0;32mprint\u001b[0m \u001b[0mmy_tuple\u001b[0m\u001b[0;34m[\u001b[0m\u001b[0;36m3\u001b[0m\u001b[0;34m]\u001b[0m\u001b[0;34m\u001b[0m\u001b[0m\n",
        "\u001b[0;31mTypeError\u001b[0m: 'tuple' object does not support item assignment"
       ]
      }
     ],
     "prompt_number": 16
    },
    {
     "cell_type": "markdown",
     "metadata": {},
     "source": [
      "This doesn't just work for math, it also works for incorrect syntax, missing variables, etc"
     ]
    },
    {
     "cell_type": "markdown",
     "metadata": {},
     "source": [
      "## *Exercise*\n",
      "\n",
      "* Find and correct the errors in the cell below until the code runs all the way through without errors"
     ]
    },
    {
     "cell_type": "code",
     "collapsed": false,
     "input": [
      "\n",
      "first_name = 'justin\n",
      "last_name = 'ely'\n",
      "\n",
      "print first_name, ' ', middle_name, ' ', last_name\n",
      "\n",
      "age = 25 + 0j\n",
      "print 'And I am ', age.real_part, ' old'\n",
      "\n"
     ],
     "language": "python",
     "metadata": {},
     "outputs": [
      {
       "ename": "NameError",
       "evalue": "name 'middle_name' is not defined",
       "output_type": "pyerr",
       "traceback": [
        "\u001b[0;31m---------------------------------------------------------------------------\u001b[0m\n\u001b[0;31mNameError\u001b[0m                                 Traceback (most recent call last)",
        "\u001b[0;32m<ipython-input-15-a46ca62b9ab8>\u001b[0m in \u001b[0;36m<module>\u001b[0;34m()\u001b[0m\n\u001b[1;32m      4\u001b[0m \u001b[0mlast_name\u001b[0m \u001b[0;34m=\u001b[0m \u001b[0;34m'ely'\u001b[0m\u001b[0;34m\u001b[0m\u001b[0m\n\u001b[1;32m      5\u001b[0m \u001b[0;34m\u001b[0m\u001b[0m\n\u001b[0;32m----> 6\u001b[0;31m \u001b[0;32mprint\u001b[0m \u001b[0mfirst_name\u001b[0m\u001b[0;34m,\u001b[0m \u001b[0;34m' '\u001b[0m\u001b[0;34m,\u001b[0m \u001b[0mmiddle_name\u001b[0m\u001b[0;34m,\u001b[0m \u001b[0;34m' '\u001b[0m\u001b[0;34m,\u001b[0m \u001b[0mlast_name\u001b[0m\u001b[0;34m\u001b[0m\u001b[0m\n\u001b[0m\u001b[1;32m      7\u001b[0m \u001b[0;34m\u001b[0m\u001b[0m\n\u001b[1;32m      8\u001b[0m \u001b[0mage\u001b[0m \u001b[0;34m=\u001b[0m \u001b[0;36m25\u001b[0m \u001b[0;34m+\u001b[0m \u001b[0;36m0j\u001b[0m\u001b[0;34m\u001b[0m\u001b[0m\n",
        "\u001b[0;31mNameError\u001b[0m: name 'middle_name' is not defined"
       ]
      },
      {
       "output_type": "stream",
       "stream": "stdout",
       "text": [
        "justin  "
       ]
      }
     ],
     "prompt_number": 15
    },
    {
     "cell_type": "markdown",
     "metadata": {},
     "source": [
      "Remember: the traceback is your friend!  \n",
      "  \n",
      "  "
     ]
    },
    {
     "cell_type": "markdown",
     "metadata": {},
     "source": [
      "----------------\n",
      "#Control Statements\n",
      "\n",
      "-----------------"
     ]
    },
    {
     "cell_type": "markdown",
     "metadata": {},
     "source": [
      "All control statements use : followed by indentation to denote that a given statement is acting on everything indented below. This improve readability by forcing you to write good code and remove the chance of forgetting to end your statement "
     ]
    },
    {
     "cell_type": "markdown",
     "metadata": {},
     "source": [
      "###For loop"
     ]
    },
    {
     "cell_type": "code",
     "collapsed": false,
     "input": [
      "#Loop over objects\n",
      "my_list = range(10)\n",
      "for obj in my_list:\n",
      "    print obj"
     ],
     "language": "python",
     "metadata": {},
     "outputs": [
      {
       "output_type": "stream",
       "stream": "stdout",
       "text": [
        " 0\n",
        "1\n",
        "2\n",
        "3\n",
        "4\n",
        "5\n",
        "6\n",
        "7\n",
        "8\n",
        "9\n"
       ]
      }
     ],
     "prompt_number": 18
    },
    {
     "cell_type": "markdown",
     "metadata": {},
     "source": [
      "###If Statements"
     ]
    },
    {
     "cell_type": "code",
     "collapsed": false,
     "input": [
      "#From above:\n",
      "if fruit == 'banana':\n",
      "    quantity = 2\n",
      "elif fruit == 'carrot':\n",
      "    quantity = 5\n",
      "elif fruit == 'apple':\n",
      "    quantity = 3\n",
      "else:\n",
      "    print 'I do not know how much fruit to by for the fruit you specified'"
     ],
     "language": "python",
     "metadata": {},
     "outputs": []
    },
    {
     "cell_type": "markdown",
     "metadata": {},
     "source": [
      "###Other useful statements:\n",
      "\n",
      "* while condition:\n",
      "* break - stop iterating\n",
      "* continue - go to next interation\n"
     ]
    },
    {
     "cell_type": "markdown",
     "metadata": {},
     "source": [
      "---------------------\n",
      "#Functions\n",
      "\n",
      "---------------------"
     ]
    },
    {
     "cell_type": "markdown",
     "metadata": {},
     "source": [
      "Functions should be:\n",
      "\n",
      "* *SMALL* When you write code, you should write short functions centered on a single task. Think of your code as an essay and each function as a paragraph. It is overwhelming to read an essay (or book) without paragraphs and you are likely to miss errors you would have otherwise caught. Small functions:\n",
      "\n",
      "    * Improve readability\n",
      "    * Easy to reuse\n",
      "    * avoid repeating code with different variables\n",
      "    * avoid changing code in multiple places\n",
      "\n",
      "* *WELL NAMED* Your function calls (and variable names) should describe exactly what you are doing. This makes your code very readable\n",
      "\n",
      "Let's write a program to read a 2 column text file with number of UFO sightings for each month of a given year (data from: http://www.nuforc.org/webreports/ndxevent.html)"
     ]
    },
    {
     "cell_type": "code",
     "collapsed": false,
     "input": [
      "#Start by outlining your code\n",
      "#I know I'm going to need to read in the information from the file and then parse each line into columns"
     ],
     "language": "python",
     "metadata": {},
     "outputs": []
    },
    {
     "cell_type": "code",
     "collapsed": false,
     "input": [
      "def read_file():\n",
      "    pass\n",
      "def parse_file():\n",
      "    pass"
     ],
     "language": "python",
     "metadata": {},
     "outputs": []
    },
    {
     "cell_type": "code",
     "collapsed": false,
     "input": [
      "def read_file(filename):\n",
      "    #Open file\n",
      "    open_file = open(filename, 'r')\n",
      "    all_lines = open_file.readlines()\n",
      "    return all_lines\n"
     ],
     "language": "python",
     "metadata": {},
     "outputs": [],
     "prompt_number": 23
    },
    {
     "cell_type": "code",
     "collapsed": false,
     "input": [
      "def parse_file(all_lines):\n",
      "    month = []\n",
      "    number_ufo = []\n",
      "    for iline in all_lines:\n",
      "        split_line = iline.split('\\t')\n",
      "        month.append(split_line[0])\n",
      "        number_ufo.append(int(split_line[1]))\n",
      "    return month, number_ufo"
     ],
     "language": "python",
     "metadata": {},
     "outputs": [],
     "prompt_number": 26
    },
    {
     "cell_type": "code",
     "collapsed": false,
     "input": [
      "#Now let's build our code, filling in the functions as needed\n",
      "all_lines = read_file('ufo_sightings_2013.txt')\n",
      "month, number_ufo = parse_file(all_lines)"
     ],
     "language": "python",
     "metadata": {},
     "outputs": [],
     "prompt_number": 27
    },
    {
     "cell_type": "code",
     "collapsed": false,
     "input": [
      "print month\n",
      "print number_ufo"
     ],
     "language": "python",
     "metadata": {},
     "outputs": [
      {
       "output_type": "stream",
       "stream": "stdout",
       "text": [
        "['Jan', 'Feb', 'Mar', 'Apr', 'May', 'Jun', 'Jul', 'Aug', 'Sep', 'Oct', 'Nov', 'Dec']\n",
        "[390, 277, 390, 414, 523, 617, 960, 887, 773, 772, 794, 730]\n"
       ]
      }
     ],
     "prompt_number": 29
    },
    {
     "cell_type": "markdown",
     "metadata": {},
     "source": [
      "## *Exercise*\n",
      "\n",
      "1. Write a function to find the mean of a list of numbers\n",
      "2. Use read_file, parse_file, and the mean function you just wrote to find the average number of UFO sightings per month in 2013"
     ]
    },
    {
     "cell_type": "code",
     "collapsed": false,
     "input": [
      "def calc_mean(my_list):\n",
      "    total = 0\n",
      "    for num in my_list:\n",
      "        total = total + num\n",
      "    average = float(total) / len(my_list) #Not you have to make one value float or you get rounding due to integer division\n",
      "    return average"
     ],
     "language": "python",
     "metadata": {},
     "outputs": [],
     "prompt_number": 31
    },
    {
     "cell_type": "code",
     "collapsed": false,
     "input": [
      "all_lines = read_file('ufo_sightings_2013.txt')\n",
      "month, number_ufo = parse_file(all_lines)\n",
      "avg_ufo_sightings = calc_mean(number_ufo)\n",
      "print avg_ufo_sightings"
     ],
     "language": "python",
     "metadata": {},
     "outputs": [
      {
       "output_type": "stream",
       "stream": "stdout",
       "text": [
        "627.25\n"
       ]
      }
     ],
     "prompt_number": 33
    },
    {
     "cell_type": "markdown",
     "metadata": {},
     "source": [
      "##Move to text file\n",
      "\n",
      "* part 1: copy and paste everything in, show that it runs the same from the command line and importing\n",
      "* part 2: add if __name__ == \"__main__\": show that it runs from the command line but not when imported. Talk about module\n",
      "* part 3: add in sys.argv to take filename\n",
      "    * discuss argument order of sys.argv\n",
      "    * import sys\n",
      "    * try different files"
     ]
    },
    {
     "cell_type": "code",
     "collapsed": false,
     "input": [],
     "language": "python",
     "metadata": {},
     "outputs": []
    }
   ],
   "metadata": {}
  }
 ]
}