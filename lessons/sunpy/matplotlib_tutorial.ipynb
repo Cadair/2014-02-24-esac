{
 "metadata": {
  "name": ""
 },
 "nbformat": 3,
 "nbformat_minor": 0,
 "worksheets": [
  {
   "cells": [
    {
     "cell_type": "heading",
     "level": 1,
     "metadata": {},
     "source": [
      "Plotting with Python: `matplotlib`"
     ]
    },
    {
     "cell_type": "markdown",
     "metadata": {
      "slideshow": {
       "slide_type": "slide"
      }
     },
     "source": [
      "##A Quick Overview\n",
      "\n",
      "1. Line plotting\n",
      "1. Object Plotting interface\n",
      "1. Plotting images (Also a super quick FITS read example)"
     ]
    },
    {
     "cell_type": "heading",
     "level": 2,
     "metadata": {
      "slideshow": {
       "slide_type": "slide"
      }
     },
     "source": [
      "1. Plotting with matplotlib"
     ]
    },
    {
     "cell_type": "code",
     "collapsed": false,
     "input": [
      "#Enable inline mode in the notebook\n",
      "%matplotlib inline\n",
      "import matplotlib.pyplot as plt\n",
      "import numpy as np"
     ],
     "language": "python",
     "metadata": {
      "slideshow": {
       "slide_type": "subslide"
      }
     },
     "outputs": []
    },
    {
     "cell_type": "code",
     "collapsed": false,
     "input": [
      "#Set up some thing to plot\n",
      "x = np.linspace(0, 6*np.pi, 10000)\n",
      "y = np.sin(x)"
     ],
     "language": "python",
     "metadata": {
      "slideshow": {
       "slide_type": "subslide"
      }
     },
     "outputs": []
    },
    {
     "cell_type": "code",
     "collapsed": false,
     "input": [
      "plt.plot(x,y)\n",
      "plt.xlabel(\"this is the x axis\")\n",
      "plt.ylabel(\"this is the y axis\")"
     ],
     "language": "python",
     "metadata": {
      "slideshow": {
       "slide_type": "subslide"
      }
     },
     "outputs": []
    },
    {
     "cell_type": "heading",
     "level": 3,
     "metadata": {},
     "source": [
      "Detailed plotting, using objects"
     ]
    },
    {
     "cell_type": "code",
     "collapsed": false,
     "input": [
      "#Create a figure object\n",
      "fig = plt.figure()"
     ],
     "language": "python",
     "metadata": {},
     "outputs": []
    },
    {
     "cell_type": "code",
     "collapsed": false,
     "input": [
      "#Create one axis on the figure \n",
      "ax = plt.subplot(111)\n",
      "#Plotting commands are methods of axes\n",
      "ax.plot(x,y) \n",
      "#Set the x axis limits\n",
      "ax.set_xlim(0,np.pi*6)\n",
      "#Set axis labels\n",
      "ax.set_ylabel(r\"$\\sin(x)$\")\n",
      "ax.set_xlabel(r\"$x$\")"
     ],
     "language": "python",
     "metadata": {},
     "outputs": []
    },
    {
     "cell_type": "heading",
     "level": 3,
     "metadata": {},
     "source": [
      "Exercise 1:"
     ]
    },
    {
     "cell_type": "markdown",
     "metadata": {},
     "source": [
      "Plot two curves on one pair of axes, one plotting $\\sin(x)$ and one showing $\\cos(x)$ for $0 \\le x \\le 6\\pi$."
     ]
    },
    {
     "cell_type": "markdown",
     "metadata": {},
     "source": [
      "For bonus points try the following:\n",
      "\n",
      "* Make each of the lines different colours you choose.\n",
      "* Use LaTeX to label the axes.\n",
      "* Create a legend showing which colour is which curve.\n",
      "* Add extra out of phase sine waves."
     ]
    },
    {
     "cell_type": "markdown",
     "metadata": {},
     "source": [
      "####Useful Documentation:\n",
      "\n",
      "* [`axes` [`ax`]](http://matplotlib.org/api/axes_api.html)\n",
      "* [`ax.plot()`](http://matplotlib.org/api/axes_api.html#matplotlib.axes.Axes.plot)\n",
      "* [`ax.legend()`](http://matplotlib.org/api/axes_api.html#matplotlib.axes.Axes.legend)\n",
      "* [`matpltolib.pyplot`](http://matplotlib.org/api/pyplot_api.html)"
     ]
    },
    {
     "cell_type": "heading",
     "level": 3,
     "metadata": {},
     "source": [
      "Solution:"
     ]
    },
    {
     "cell_type": "code",
     "collapsed": true,
     "input": [
      "#Set up some thing to plot\n",
      "x = np.linspace(0, 6*np.pi, 10000)\n",
      "sin = np.sin(x)\n",
      "cos = np.cos(x)\n",
      "\n",
      "fig, ax = plt.subplots(1)\n",
      "ax.plot(x, sin, color='red', label=r'$\\sin(x)$')\n",
      "ax.plot(x, cos, color='green', label=r'$\\cos(x)$')\n",
      "\n",
      "ax.set_ylabel(\"$f(x)$\")\n",
      "ax.set_xlabel(\"$x$\")\n",
      "\n",
      "ax.legend()\n",
      "ax.axis([0,np.pi*6,-1.1,1.1])"
     ],
     "language": "python",
     "metadata": {},
     "outputs": []
    },
    {
     "cell_type": "heading",
     "level": 3,
     "metadata": {},
     "source": [
      "Generic FITS reading and Plotting Images"
     ]
    },
    {
     "cell_type": "heading",
     "level": 4,
     "metadata": {},
     "source": [
      "FITS Read:"
     ]
    },
    {
     "cell_type": "code",
     "collapsed": false,
     "input": [
      "#Create some image data\n",
      "from astropy.io import fits\n",
      "hdus = fits.open('data/h_n4571_f555_mosaic.fits')"
     ],
     "language": "python",
     "metadata": {},
     "outputs": []
    },
    {
     "cell_type": "code",
     "collapsed": false,
     "input": [
      "hdus.info()"
     ],
     "language": "python",
     "metadata": {},
     "outputs": []
    },
    {
     "cell_type": "code",
     "collapsed": false,
     "input": [
      "hdus[0].header"
     ],
     "language": "python",
     "metadata": {},
     "outputs": []
    },
    {
     "cell_type": "code",
     "collapsed": false,
     "input": [
      "hdus[0].data"
     ],
     "language": "python",
     "metadata": {},
     "outputs": []
    },
    {
     "cell_type": "markdown",
     "metadata": {},
     "source": [
      "For more information on FITS I/O read the [Astropy Documentation](http://docs.astropy.org/en/stable/io/fits/index.html)."
     ]
    },
    {
     "cell_type": "heading",
     "level": 4,
     "metadata": {},
     "source": [
      "Plotting Images"
     ]
    },
    {
     "cell_type": "code",
     "collapsed": false,
     "input": [
      "#Create a figure object and an axis at the same time!\n",
      "fig, ax = plt.subplots(1)\n",
      "#Plot the image with default settings\n",
      "im = ax.imshow(hdus[0].data)"
     ],
     "language": "python",
     "metadata": {},
     "outputs": []
    },
    {
     "cell_type": "markdown",
     "metadata": {},
     "source": [
      "There is actually a picture of a barred spiral Galaxy (NGC 4571) in here, however the colormap and the scaling is really bad."
     ]
    },
    {
     "cell_type": "markdown",
     "metadata": {},
     "source": [
      "####Some things to know about `plt.imshow()`:\n",
      "\n",
      "1. The origin is at the top (unless you change the defaults):\n",
      "   Use `origin='lower'` to set it as the bottom.\n",
      "\n",
      "1. By default it might interpolate images (depending on the defaults):\n",
      "   Set `interpolation='none'` to be more accurate.\n",
      "   \n",
      "1. Use `extent=[xmin, xmax, ymin, ymax]` to set axis limits.\n",
      "\n",
      "1. Use `cmap='a_cmap_here'` to get a [better colour map.](http://wiki.scipy.org/Cookbook/Matplotlib/Show_colormaps)"
     ]
    },
    {
     "cell_type": "heading",
     "level": 3,
     "metadata": {},
     "source": [
      "Exercise 2:"
     ]
    },
    {
     "cell_type": "markdown",
     "metadata": {},
     "source": [
      "Plot a better version of the image with no interpolation, the origin at the bottom, a colour map of your choice ('gray' is good) with a colour bar for a scale and scale the image between $0$ and $10$ for good contrast. See the [`imshow`](http://matplotlib.org/api/pyplot_api.html#matplotlib.pyplot.imshow) docs for arguments to `imshow()` and [`colorbar()`](http://matplotlib.org/api/pyplot_api.html#matplotlib.pyplot.colorbar) docs for how to plot colour bars."
     ]
    },
    {
     "cell_type": "heading",
     "level": 3,
     "metadata": {},
     "source": [
      "Solution:"
     ]
    },
    {
     "cell_type": "code",
     "collapsed": false,
     "input": [
      "fig, ax = plt.subplots(1, figsize=(8,8))\n",
      "im = ax.imshow(hdus[0].data, interpolation='none', origin='lower', cmap='gray', vmin=110, vmax=1300)\n",
      "cbar = plt.colorbar(im)\n",
      "ax.axis([1000,3700,1000,3700])"
     ],
     "language": "python",
     "metadata": {},
     "outputs": []
    },
    {
     "cell_type": "markdown",
     "metadata": {},
     "source": [
      "There are many many more things you can do with matplotlib, I have covered the object API because it fits a little better with SunPy than the `pyplot` API. You can see lots of examples [here](http://matplotlib.org/examples/). There are also solar colour maps in SunPy: http://docs.sunpy.org/en/stable/guide/plotting.html#specifying-a-colormap"
     ]
    }
   ],
   "metadata": {}
  }
 ]
}