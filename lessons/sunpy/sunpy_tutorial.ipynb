{
 "metadata": {
  "name": ""
 },
 "nbformat": 3,
 "nbformat_minor": 0,
 "worksheets": [
  {
   "cells": [
    {
     "cell_type": "markdown",
     "metadata": {
      "slideshow": {
       "slide_type": "slide"
      }
     },
     "source": [
      "#SunPy: Python for Solar Physics\n",
      "<img style=\"width:100%;\" src=\"https://raw.github.com/sunpy/sunpy-logo/master/generated/sunpy_logo_long_800x380.png\">"
     ]
    },
    {
     "cell_type": "markdown",
     "metadata": {
      "slideshow": {
       "slide_type": "slide"
      }
     },
     "source": [
      "##A Quick Overview\n",
      "\n",
      "1. Loading and plotting images in SunPy\n",
      "1. Loading and plotting timeseries in SunPy\n",
      "1. Downloading Data"
     ]
    },
    {
     "cell_type": "markdown",
     "metadata": {},
     "source": [
      "#1. Solar Images with SunPy\n",
      "\n",
      "SunPy has a `Map` type that supports 2D images, it makes it simple to read data in from any filetype supported in `sunpy.io` which is currently FITS, JPEG2000 and ANA files. You can also create maps from any `(data, metadata)` pair.\n",
      "\n",
      "SunPy contains a few test data files, under the `sunpy` namespace:\n",
      "\n",
      "* `sunpy.AIA_171_IMAGE`\n",
      "* `sunpy.CALLISTO_IMAGE`\n",
      "* `sunpy.EIT_195_IMAGE`\n",
      "* `sunpy.RHESSI_EVENT_LIST`\n",
      "* `sunpy.RHESSI_IMAGE`\n",
      "\n",
      "These are all just links to FITS files contained in the SunPy distribution."
     ]
    },
    {
     "cell_type": "code",
     "collapsed": false,
     "input": [
      "import sunpy\n",
      "print sunpy.AIA_171_IMAGE"
     ],
     "language": "python",
     "metadata": {},
     "outputs": []
    },
    {
     "cell_type": "code",
     "collapsed": false,
     "input": [
      "import sunpy.map\n",
      "\n",
      "aiamap = sunpy.map.Map(sunpy.AIA_171_IMAGE)\n",
      "aiamap"
     ],
     "language": "python",
     "metadata": {},
     "outputs": []
    },
    {
     "cell_type": "markdown",
     "metadata": {},
     "source": [
      "Maps contain both the image data and the metadata associated with the image, this metadata currently does not deviate much from the standard FITS WCS keywords, but presented in a instrument-independant manner."
     ]
    },
    {
     "cell_type": "heading",
     "level": 2,
     "metadata": {},
     "source": [
      "Plotting Maps"
     ]
    },
    {
     "cell_type": "markdown",
     "metadata": {},
     "source": [
      "###1. The quick way\n",
      "\n",
      "Most SunPy datatypes have a 'quick view' method called `peek()` which returns a `Figure` object and presents an overview of the data. "
     ]
    },
    {
     "cell_type": "code",
     "collapsed": false,
     "input": [
      "fig = aiamap.peek()"
     ],
     "language": "python",
     "metadata": {},
     "outputs": []
    },
    {
     "cell_type": "markdown",
     "metadata": {},
     "source": [
      "###2. The powerful way\n",
      "\n",
      "All SunPy datatypes have a `plot()` method that integrates with matplotlib in a way that allows you to customise your plot."
     ]
    },
    {
     "cell_type": "code",
     "collapsed": false,
     "input": [
      "#Create a Figure and an axes\n",
      "fig, ax = plt.subplots(1)\n",
      "#Plot the aiamap, aiamap.plot() behaves like plt.imshow()\n",
      "im = aiamap.plot(axes=ax)\n",
      "#Add a colorbar\n",
      "plt.colorbar(im)\n",
      "#Overlay a grid\n",
      "aiamap.draw_grid(axes=ax)"
     ],
     "language": "python",
     "metadata": {},
     "outputs": []
    },
    {
     "cell_type": "markdown",
     "metadata": {},
     "source": [
      "##Using Maps\n",
      "Commonly used meta data and data manipulation methods are part of the map class, below I highlight a couple. To see the full features of `Map` look at the `GenericMap` [documentation.](http://docs.sunpy.org/en/stable/api/sunpy.map.mapbase.GenericMap.html#sunpy.map.mapbase.GenericMap)"
     ]
    },
    {
     "cell_type": "markdown",
     "metadata": {},
     "source": [
      "First we read in a Level 1 AIA image:"
     ]
    },
    {
     "cell_type": "code",
     "collapsed": false,
     "input": [
      "aiamap2 = sunpy.map.Map('data/aia_lev1_171a_2014_01_01t00_02_23_34z_image_lev1_fits.fits')"
     ],
     "language": "python",
     "metadata": {},
     "outputs": []
    },
    {
     "cell_type": "code",
     "collapsed": false,
     "input": [
      "fig = aiamap2.peek()"
     ],
     "language": "python",
     "metadata": {},
     "outputs": []
    },
    {
     "cell_type": "markdown",
     "metadata": {},
     "source": [
      "The properties of the map provide a standard way of reading meta data. For instance the pixel scale can be accessed with the `.scale` attribute:"
     ]
    },
    {
     "cell_type": "code",
     "collapsed": false,
     "input": [
      "aiamap2.scale"
     ],
     "language": "python",
     "metadata": {},
     "outputs": []
    },
    {
     "cell_type": "markdown",
     "metadata": {},
     "source": [
      "It is also possible to rotate and rescale an image:"
     ]
    },
    {
     "cell_type": "code",
     "collapsed": false,
     "input": [
      "aiamapR = aiamap2.rotate(angle=np.pi)"
     ],
     "language": "python",
     "metadata": {},
     "outputs": []
    },
    {
     "cell_type": "code",
     "collapsed": false,
     "input": [
      "fig = aiamapR.peek() # Oh noes the Sun is upside down."
     ],
     "language": "python",
     "metadata": {},
     "outputs": []
    },
    {
     "cell_type": "markdown",
     "metadata": {},
     "source": [
      "Warning, this method will not change the meta data:"
     ]
    },
    {
     "cell_type": "code",
     "collapsed": false,
     "input": [
      "aiamapR.rotation_angle"
     ],
     "language": "python",
     "metadata": {},
     "outputs": []
    },
    {
     "cell_type": "heading",
     "level": 3,
     "metadata": {},
     "source": [
      "Exercise 3:"
     ]
    },
    {
     "cell_type": "markdown",
     "metadata": {},
     "source": [
      "Using [`map.submap()`](http://docs.sunpy.org/en/stable/api/sunpy.map.mapbase.GenericMap.html#sunpy.map.mapbase.GenericMap.submap) cut out an active region of your choice, over plot a lon/lat grid at a sutible resolution depending on your box size and rescale the image limits when you plot the output with a colour bar."
     ]
    },
    {
     "cell_type": "heading",
     "level": 3,
     "metadata": {},
     "source": [
      "Solution:"
     ]
    },
    {
     "cell_type": "code",
     "collapsed": false,
     "input": [
      "aiasub = aiamap2.submap([800,1200],[-400,100])"
     ],
     "language": "python",
     "metadata": {},
     "outputs": []
    },
    {
     "cell_type": "code",
     "collapsed": false,
     "input": [
      "fig, ax = plt.subplots(1, figsize=(7,7))\n",
      "im = aiasub.plot(axes=ax, vmin=0, vmax=3300)\n",
      "ax = aiasub.draw_grid(grid_spacing=10)\n",
      "cbar = plt.colorbar()"
     ],
     "language": "python",
     "metadata": {},
     "outputs": []
    },
    {
     "cell_type": "heading",
     "level": 2,
     "metadata": {},
     "source": [
      "2. Timeseries and Lightcurves"
     ]
    },
    {
     "cell_type": "markdown",
     "metadata": {},
     "source": [
      "SunPy supports many different sources of time series data via the `Lightcurve` data type. Currently, the `LightCurve` class is compatible with the following data sources: the *GOES* X-ray Sensor (XRS), *PROBA2*/LYRA, and *SDO*/EVE"
     ]
    },
    {
     "cell_type": "markdown",
     "metadata": {},
     "source": [
      "The first `Lightcurve` we are going to create is for 1st January 2014 from the *GOES* XRS instrument."
     ]
    },
    {
     "cell_type": "code",
     "collapsed": false,
     "input": [
      "import sunpy.lightcurve"
     ],
     "language": "python",
     "metadata": {},
     "outputs": []
    },
    {
     "cell_type": "code",
     "collapsed": false,
     "input": [
      "goeslc = sunpy.lightcurve.GOESLightCurve.create('2014/01/01T00:00:00','2014/01/01T23:59:59')"
     ],
     "language": "python",
     "metadata": {},
     "outputs": []
    },
    {
     "cell_type": "code",
     "collapsed": false,
     "input": [
      "fig = goeslc.peek()"
     ],
     "language": "python",
     "metadata": {},
     "outputs": []
    },
    {
     "cell_type": "markdown",
     "metadata": {},
     "source": [
      "Currently there is not a huge amount of functionality actually in the `Lightcurve` object, the power of `Lightcurve` comes from the `pandas` `DataFrame` stored in the `Lightcurve`."
     ]
    },
    {
     "cell_type": "code",
     "collapsed": false,
     "input": [
      "goeslc.data"
     ],
     "language": "python",
     "metadata": {},
     "outputs": []
    },
    {
     "cell_type": "markdown",
     "metadata": {},
     "source": [
      "If we want to just plot the $0.5$ - $4.0$ A or the `'A_FLUX'` column we can do this:"
     ]
    },
    {
     "cell_type": "code",
     "collapsed": false,
     "input": [
      "ax = goeslc.data['A_FLUX'].plot()"
     ],
     "language": "python",
     "metadata": {},
     "outputs": []
    },
    {
     "cell_type": "markdown",
     "metadata": {},
     "source": [
      "To customise this plot you can specify lot's of arguments to the `pandas DataFrame .plot()` method, which is described [here.](http://pandas.pydata.org/pandas-docs/stable/generated/pandas.DataFrame.plot.html)"
     ]
    },
    {
     "cell_type": "heading",
     "level": 3,
     "metadata": {},
     "source": [
      "Exercise 4:"
     ]
    },
    {
     "cell_type": "markdown",
     "metadata": {},
     "source": [
      "Create a new `LightCurve` object for the same day in January, but this time using the *SDO*/EVE instrument. Use [`EVELightcurve`.](http://docs.sunpy.org/en/stable/api/sunpy.lightcurve.sources.eve.EVELightCurve.html#sunpy.lightcurve.sources.eve.EVELightCurve) Pay special attention to the parameters accepted by the EVE `.create()` method.\n",
      "\n",
      "Once you have the lightcurve, plot it and explore the data contained in the [`pandas DataFrame`.](http://pandas.pydata.org/pandas-docs/stable/generated/pandas.DataFrame.html#pandas.DataFrame) Then plot the $17.1$ channel on it's own."
     ]
    },
    {
     "cell_type": "heading",
     "level": 3,
     "metadata": {},
     "source": [
      "Solution:"
     ]
    },
    {
     "cell_type": "code",
     "collapsed": false,
     "input": [
      "evelc = sunpy.lightcurve.EVELightCurve.create('2014/01/01')"
     ],
     "language": "python",
     "metadata": {},
     "outputs": []
    },
    {
     "cell_type": "code",
     "collapsed": false,
     "input": [
      "fig = evelc.peek()"
     ],
     "language": "python",
     "metadata": {},
     "outputs": []
    },
    {
     "cell_type": "code",
     "collapsed": false,
     "input": [
      "ax = evelc.data['17.1ESP'].plot()"
     ],
     "language": "python",
     "metadata": {},
     "outputs": []
    },
    {
     "cell_type": "markdown",
     "metadata": {},
     "source": [
      "We can see that the missing data in this file hasn't been properly removed. (This is probably a bug in `EVELightCurve`). We can check the header:"
     ]
    },
    {
     "cell_type": "code",
     "collapsed": false,
     "input": [
      "evelc.header[8]"
     ],
     "language": "python",
     "metadata": {},
     "outputs": []
    },
    {
     "cell_type": "markdown",
     "metadata": {},
     "source": [
      "We can now use pandas to convert the missing data to NaN:"
     ]
    },
    {
     "cell_type": "code",
     "collapsed": false,
     "input": [
      "evelc.data[evelc.data == -1] = np.nan"
     ],
     "language": "python",
     "metadata": {},
     "outputs": []
    },
    {
     "cell_type": "code",
     "collapsed": false,
     "input": [
      "evelc.data"
     ],
     "language": "python",
     "metadata": {},
     "outputs": []
    },
    {
     "cell_type": "code",
     "collapsed": false,
     "input": [
      "evelc.data['17.1ESP'].plot()"
     ],
     "language": "python",
     "metadata": {},
     "outputs": []
    },
    {
     "cell_type": "markdown",
     "metadata": {},
     "source": [
      "Which is much nicer!!"
     ]
    },
    {
     "cell_type": "heading",
     "level": 4,
     "metadata": {},
     "source": [
      "Exercise 5:"
     ]
    },
    {
     "cell_type": "markdown",
     "metadata": {},
     "source": [
      "Using `matplotlib` plot both the $17.1$nm EUV flux and the GOES X-ray flux on the same graph.\n",
      "\n",
      "Hints/Bonuses:\n",
      "\n",
      "* The timeseries data in a Pandas DataFrame is held in the `.index` attribute, use this as the x axis for your plots.\n",
      "* [`plt.twinx`](http://matplotlib.org/api/pyplot_api.html#matplotlib.pyplot.twinx) will give you two independant scales using the same x axis.\n",
      "* Plot a legend.\n",
      "* Use [`fig.autofmt_xdate()`](http://matplotlib.org/api/figure_api.html#matplotlib.figure.Figure.autofmt_xdate) to magically format temporal x axis better.\n",
      "* Use [`ax.semilogy()`](http://matplotlib.org/api/axes_api.html#matplotlib.axes.Axes.semilogy) to set the GOES axis to a log y scale."
     ]
    },
    {
     "cell_type": "heading",
     "level": 4,
     "metadata": {},
     "source": [
      "Solution:"
     ]
    },
    {
     "cell_type": "code",
     "collapsed": false,
     "input": [
      "#Create the start Figure and Axes\n",
      "fig, ax = plt.subplots(1)\n",
      "\n",
      "#Plot the EVE 17.1 line\n",
      "line1 = ax.plot(evelc.data.index, evelc.data['17.1ESP'], color='blue')\n",
      "\n",
      "#Split the x axis between two y axes, returns a new Axes instance.\n",
      "ax2 = ax.twinx()\n",
      "#Plot the GOES flux\n",
      "line2 = ax2.plot(goeslc.data.index, goeslc.data['A_FLUX'], color='red')\n",
      "#Set the y scaling to logarithmic\n",
      "ax2.semilogy()\n",
      "\n",
      "#Autoformat the date\n",
      "fig.autofmt_xdate()\n",
      "\n",
      "#Manually set the legend because it will not auto-detect over two axes.\n",
      "plt.legend((line1[0],line2[0]), (\"EVE $17.1$nm Flux\", \"GOES $0.5$ - $4.0$ $\\AA$ Flux\"), loc=2)"
     ],
     "language": "python",
     "metadata": {},
     "outputs": []
    },
    {
     "cell_type": "heading",
     "level": 2,
     "metadata": {},
     "source": [
      "3. Downloading Data from the VSO\n"
     ]
    },
    {
     "cell_type": "code",
     "collapsed": false,
     "input": [],
     "language": "python",
     "metadata": {},
     "outputs": []
    }
   ],
   "metadata": {}
  }
 ]
}